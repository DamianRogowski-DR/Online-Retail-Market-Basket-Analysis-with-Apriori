{
 "cells": [
  {
   "cell_type": "code",
   "execution_count": 1,
   "metadata": {},
   "outputs": [],
   "source": [
    "import pandas as pd\n",
    "import openpyxl\n",
    "from mlxtend.preprocessing import TransactionEncoder\n",
    "from mlxtend.frequent_patterns import apriori\n",
    "from mlxtend.frequent_patterns import association_rules\n",
    "import numpy as np\n",
    "import matplotlib\n",
    "import matplotlib.pyplot as plt\n",
    "from matplotlib.colors import Normalize"
   ]
  },
  {
   "cell_type": "code",
   "execution_count": 6,
   "metadata": {},
   "outputs": [
    {
     "name": "stdout",
     "output_type": "stream",
     "text": [
      "Number of transactions 24446\n",
      "Number of unique items 4223\n"
     ]
    }
   ],
   "source": [
    "df_retail = pd.read_excel('Online Retail.xlsx', index_col=0, engine='openpyxl')\n",
    "df_retail = df_retail.dropna(subset = ['Description'])\n",
    "df_retail = df_retail.astype({'Description': str}) # to be sure that it's gonna read and evaluate the data. \n",
    "df_retail_list = df_retail.groupby(['InvoiceNo'])['Description'].apply(list).to_list() # to create a baskets lists\n",
    "\n",
    "print('Number of transactions', len(df_retail_list))\n",
    "print('Number of unique items', len(set(sum(df_retail_list, []))))"
   ]
  },
  {
   "cell_type": "code",
   "execution_count": 7,
   "metadata": {},
   "outputs": [],
   "source": [
    "encoder = TransactionEncoder()\n",
    "encoded_array = encoder.fit(df_retail_list).transform(df_retail_list)\n",
    "    #The fit method analyzes the transactions data to identify all the unique items present across all transactions.The transform method then uses this vocabulary to create the one-hot encoded array.For each transaction, it creates a row in the array.For each unique item, it creates a column.\n",
    "df_itemsets = pd.DataFrame(encoded_array, columns=encoder.columns_)"
   ]
  },
  {
   "cell_type": "code",
   "execution_count": 8,
   "metadata": {},
   "outputs": [
    {
     "name": "stdout",
     "output_type": "stream",
     "text": [
      "      support                                           itemsets\n",
      "0    0.039311                           (6 RIBBONS RUSTIC CHARM)\n",
      "1    0.025444                  (60 CAKE CASES VINTAGE CHRISTMAS)\n",
      "2    0.034198                      (60 TEATIME FAIRY CAKE CASES)\n",
      "3    0.025321                   (72 SWEETHEART FAIRY CAKE CASES)\n",
      "4    0.040947                       (ALARM CLOCK BAKELIKE GREEN)\n",
      "..        ...                                                ...\n",
      "131  0.027939  (JUMBO BAG RED RETROSPOT, JUMBO SHOPPER VINTAG...\n",
      "132  0.029984  (JUMBO BAG RED RETROSPOT, JUMBO STORAGE BAG SUKI)\n",
      "133  0.026507  (LUNCH BAG  BLACK SKULL., LUNCH BAG RED RETROS...\n",
      "134  0.025076  (LUNCH BAG PINK POLKADOT, LUNCH BAG RED RETROS...\n",
      "135  0.025117  (ROSES REGENCY TEACUP AND SAUCER , PINK REGENC...\n",
      "\n",
      "[136 rows x 2 columns]\n"
     ]
    }
   ],
   "source": [
    "frequent_items = apriori(df_itemsets, min_support=0.025, use_colnames=True)\n",
    "print(frequent_items)"
   ]
  },
  {
   "cell_type": "code",
   "execution_count": 11,
   "metadata": {},
   "outputs": [
    {
     "name": "stdout",
     "output_type": "stream",
     "text": [
      "                            antecedents                          consequents  \\\n",
      "0          (ALARM CLOCK BAKELIKE GREEN)          (ALARM CLOCK BAKELIKE RED )   \n",
      "1           (ALARM CLOCK BAKELIKE RED )         (ALARM CLOCK BAKELIKE GREEN)   \n",
      "2     (GREEN REGENCY TEACUP AND SAUCER)     (PINK REGENCY TEACUP AND SAUCER)   \n",
      "3      (PINK REGENCY TEACUP AND SAUCER)    (GREEN REGENCY TEACUP AND SAUCER)   \n",
      "4     (GREEN REGENCY TEACUP AND SAUCER)   (ROSES REGENCY TEACUP AND SAUCER )   \n",
      "5    (ROSES REGENCY TEACUP AND SAUCER )    (GREEN REGENCY TEACUP AND SAUCER)   \n",
      "6             (JUMBO BAG RED RETROSPOT)            (JUMBO BAG PINK POLKADOT)   \n",
      "7             (JUMBO BAG PINK POLKADOT)            (JUMBO BAG RED RETROSPOT)   \n",
      "8             (JUMBO BAG RED RETROSPOT)  (JUMBO SHOPPER VINTAGE RED PAISLEY)   \n",
      "9   (JUMBO SHOPPER VINTAGE RED PAISLEY)            (JUMBO BAG RED RETROSPOT)   \n",
      "10            (JUMBO BAG RED RETROSPOT)             (JUMBO STORAGE BAG SUKI)   \n",
      "11             (JUMBO STORAGE BAG SUKI)            (JUMBO BAG RED RETROSPOT)   \n",
      "12            (LUNCH BAG  BLACK SKULL.)            (LUNCH BAG RED RETROSPOT)   \n",
      "13            (LUNCH BAG RED RETROSPOT)            (LUNCH BAG  BLACK SKULL.)   \n",
      "14            (LUNCH BAG PINK POLKADOT)            (LUNCH BAG RED RETROSPOT)   \n",
      "15            (LUNCH BAG RED RETROSPOT)            (LUNCH BAG PINK POLKADOT)   \n",
      "16   (ROSES REGENCY TEACUP AND SAUCER )     (PINK REGENCY TEACUP AND SAUCER)   \n",
      "17     (PINK REGENCY TEACUP AND SAUCER)   (ROSES REGENCY TEACUP AND SAUCER )   \n",
      "\n",
      "    antecedent support  consequent support   support  confidence       lift  \n",
      "0             0.040947            0.044220  0.026426    0.645355  14.594209  \n",
      "1             0.044220            0.040947  0.026426    0.597595  14.594209  \n",
      "2             0.043238            0.032766  0.026344    0.609272  18.594571  \n",
      "3             0.032766            0.043238  0.026344    0.803995  18.594571  \n",
      "4             0.043238            0.045815  0.032071    0.741722  16.189404  \n",
      "5             0.045815            0.043238  0.032071    0.700000  16.189404  \n",
      "6             0.087335            0.050356  0.034075    0.390164   7.748130  \n",
      "7             0.050356            0.087335  0.034075    0.676686   7.748130  \n",
      "8             0.087335            0.048556  0.027939    0.319906   6.588399  \n",
      "9             0.048556            0.087335  0.027939    0.575400   6.588399  \n",
      "10            0.087335            0.049129  0.029984    0.343326   6.988290  \n",
      "11            0.049129            0.087335  0.029984    0.610325   6.988290  \n",
      "12            0.052974            0.065737  0.026507    0.500386   7.611972  \n",
      "13            0.065737            0.052974  0.026507    0.403236   7.611972  \n",
      "14            0.045406            0.065737  0.025076    0.552252   8.400970  \n",
      "15            0.065737            0.045406  0.025076    0.381456   8.400970  \n",
      "16            0.045815            0.032766  0.025117    0.548214  16.731144  \n",
      "17            0.032766            0.045815  0.025117    0.766542  16.731144  \n"
     ]
    }
   ],
   "source": [
    "rules = association_rules(frequent_items, metric=\"confidence\", min_threshold=0.3)\n",
    "print(rules.iloc[:,:7])"
   ]
  }
 ],
 "metadata": {
  "kernelspec": {
   "display_name": "Python 3",
   "language": "python",
   "name": "python3"
  },
  "language_info": {
   "codemirror_mode": {
    "name": "ipython",
    "version": 3
   },
   "file_extension": ".py",
   "mimetype": "text/x-python",
   "name": "python",
   "nbconvert_exporter": "python",
   "pygments_lexer": "ipython3",
   "version": "3.13.1"
  }
 },
 "nbformat": 4,
 "nbformat_minor": 2
}
